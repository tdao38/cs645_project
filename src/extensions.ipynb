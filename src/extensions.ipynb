{
 "cells": [
  {
   "cell_type": "markdown",
   "source": [
    "## Extensions - Anomaly Detection Algorithm\n",
    "\n",
    "### Exploring the train batch `batch146_17`"
   ],
   "metadata": {
    "collapsed": false
   }
  },
  {
   "cell_type": "code",
   "execution_count": 2,
   "outputs": [
    {
     "data": {
      "text/plain": "0    37967\n1     5265\nName: label, dtype: int64"
     },
     "execution_count": 2,
     "metadata": {},
     "output_type": "execute_result"
    }
   ],
   "source": [
    "import pandas as pd\n",
    "import seaborn as sns\n",
    "df = pd.read_csv('~/cs645_project/data/clean/batch146_17_clean.csv')\n",
    "df.head()\n",
    "df.label.value_counts()"
   ],
   "metadata": {
    "collapsed": false,
    "pycharm": {
     "name": "#%%\n"
    }
   }
  },
  {
   "cell_type": "code",
   "execution_count": 3,
   "outputs": [
    {
     "name": "stderr",
     "output_type": "stream",
     "text": [
      "/Users/mm12574/miniconda/lib/python3.8/site-packages/seaborn/_decorators.py:36: FutureWarning: Pass the following variables as keyword args: x, y. From version 0.12, the only valid positional argument will be `data`, and passing other arguments without an explicit keyword will result in an error or misinterpretation.\n",
      "  warnings.warn(\n"
     ]
    },
    {
     "data": {
      "text/plain": "<AxesSubplot:xlabel='1_diff_avg_jvm_heap_used_value', ylabel='1_diff_driver_StreamingMetrics_streaming_totalReceivedRecords_value'>"
     },
     "execution_count": 3,
     "metadata": {},
     "output_type": "execute_result"
    },
    {
     "data": {
      "text/plain": "<Figure size 1440x360 with 1 Axes>",
      "image/png": "[encoded data removed]"
     },
     "metadata": {
      "needs_background": "light"
     },
     "output_type": "display_data"
    }
   ],
   "source": [
    "import matplotlib.pyplot as plt\n",
    "plt.figure(figsize=(20,5))\n",
    "sns.scatterplot(df['1_diff_avg_jvm_heap_used_value'],\n",
    "                df['1_diff_driver_StreamingMetrics_streaming_totalReceivedRecords_value'],\n",
    "                hue=df['label'])"
   ],
   "metadata": {
    "collapsed": false,
    "pycharm": {
     "name": "#%%\n"
    }
   }
  },
  {
   "cell_type": "markdown",
   "source": [
    "### Preprocessing the data"
   ],
   "metadata": {
    "collapsed": false,
    "pycharm": {
     "name": "#%% md\n"
    }
   }
  },
  {
   "cell_type": "code",
   "execution_count": 4,
   "outputs": [],
   "source": [
    "from sklearn.preprocessing import StandardScaler\n",
    "scaler = StandardScaler()\n",
    "X = df.iloc[:, 1:-1]\n",
    "y = df.label.values.ravel()\n",
    "X_scaled = scaler.fit_transform(X)"
   ],
   "metadata": {
    "collapsed": false,
    "pycharm": {
     "name": "#%%\n"
    }
   }
  },
  {
   "cell_type": "code",
   "execution_count": 5,
   "outputs": [
    {
     "name": "stdout",
     "output_type": "stream",
     "text": [
      "Shape of X_test: (8647, 20) ; Abnormal percentage: 0.12\n",
      "Shape of X_train: (34585, 20) ; Abnormal percentage: 0.122\n"
     ]
    }
   ],
   "source": [
    "# Train, test, validation split\n",
    "# Unseen test set: 15%\n",
    "# Validation set: (0.85*0.15) = 12.75%\n",
    "# Train set 72.25%\n",
    "\n",
    "from sklearn.model_selection import train_test_split\n",
    "X_train, X_test, y_train, y_test = train_test_split(\n",
    "    X_scaled, y, test_size=0.20, random_state=9821)\n",
    "\n",
    "print('Shape of X_test:', X_test.shape,';', 'Abnormal percentage:', round(sum(y_test)/len(y_test),3))\n",
    "print('Shape of X_train:', X_train.shape,';', 'Abnormal percentage:', round(sum(y_train)/len(y_train),3))"
   ],
   "metadata": {
    "collapsed": false,
    "pycharm": {
     "name": "#%%\n"
    }
   }
  },
  {
   "cell_type": "markdown",
   "source": [
    "### Model building\n",
    "\n",
    "#### XGBoost"
   ],
   "metadata": {
    "collapsed": false
   }
  },
  {
   "cell_type": "code",
   "execution_count": 80,
   "outputs": [
    {
     "name": "stdout",
     "output_type": "stream",
     "text": [
      "[19:24:44] WARNING: /Users/travis/build/dmlc/xgboost/src/learner.cc:1095: Starting in XGBoost 1.3.0, the default evaluation metric used with the objective 'binary:logistic' was changed from 'error' to 'logloss'. Explicitly set eval_metric if you'd like to restore the old behavior.\n",
      "Accuracy: 0.9891291777495085\n",
      "F1 score: 0.952952952952953\n",
      "Recall: 0.9171483622350675\n",
      "Precision: 0.9916666666666667\n",
      "\n",
      " clasification report:\n",
      "               precision    recall  f1-score   support\n",
      "\n",
      "           0       0.99      1.00      0.99      7609\n",
      "           1       0.99      0.92      0.95      1038\n",
      "\n",
      "    accuracy                           0.99      8647\n",
      "   macro avg       0.99      0.96      0.97      8647\n",
      "weighted avg       0.99      0.99      0.99      8647\n",
      "\n",
      "\n",
      " confussion matrix:\n",
      " [[7601    8]\n",
      " [  86  952]]\n"
     ]
    }
   ],
   "source": [
    "from xgboost import XGBClassifier\n",
    "from sklearn.metrics import precision_score, recall_score, confusion_matrix, \\\n",
    "    classification_report, accuracy_score, f1_score\n",
    "\n",
    "xgb = XGBClassifier(use_label_encoder=False, random_state=9821, learning_rate=0.01)\n",
    "xgb.fit(X_train, y_train)\n",
    "y_pred = xgb.predict(X_test)\n",
    "print('Accuracy:', accuracy_score(y_test, y_pred))\n",
    "print('F1 score:', f1_score(y_test, y_pred))\n",
    "print('Recall:', recall_score(y_test, y_pred))\n",
    "print('Precision:', precision_score(y_test, y_pred))\n",
    "print('\\n clasification report:\\n', classification_report(y_test, y_pred))\n",
    "print('\\n confussion matrix:\\n',confusion_matrix(y_test, y_pred))"
   ],
   "metadata": {
    "collapsed": false,
    "pycharm": {
     "name": "#%%\n"
    }
   }
  },
  {
   "cell_type": "markdown",
   "source": [
    "#### Random forest"
   ],
   "metadata": {
    "collapsed": false
   }
  },
  {
   "cell_type": "code",
   "execution_count": null,
   "outputs": [],
   "source": [
    "\"\"\"\n",
    "# Don't rerun, take a lot of time\n",
    "from sklearn.ensemble import RandomForestClassifier\n",
    "from sklearn.model_selection import GridSearchCV\n",
    "# Create the parameter grid based on the results of random search\n",
    "param_grid = {\n",
    "    'bootstrap': [True],\n",
    "    'max_depth': [80, 90, 100, 110],\n",
    "    'min_samples_leaf': [3, 4, 5],\n",
    "    'min_samples_split': [8, 10, 12],\n",
    "    'n_estimators': [100, 200, 300, 1000]\n",
    "}\n",
    "rf = RandomForestClassifier(random_state=9821)\n",
    "\n",
    "# Instantiate the grid search model\n",
    "grid_search = GridSearchCV(estimator = rf, param_grid = param_grid,\n",
    "                          cv = 3, n_jobs = -1, verbose = 2)\n",
    "\n",
    "grid_search.fit(X_train, y_train)\n",
    "\"\"\""
   ],
   "metadata": {
    "collapsed": false,
    "pycharm": {
     "name": "#%%\n"
    }
   }
  },
  {
   "cell_type": "code",
   "execution_count": 73,
   "outputs": [
    {
     "data": {
      "text/plain": "{'bootstrap': True,\n 'max_depth': 80,\n 'min_samples_leaf': 3,\n 'min_samples_split': 8,\n 'n_estimators': 200}"
     },
     "execution_count": 73,
     "metadata": {},
     "output_type": "execute_result"
    }
   ],
   "source": [
    "grid_search.best_params_"
   ],
   "metadata": {
    "collapsed": false,
    "pycharm": {
     "name": "#%%\n"
    }
   }
  },
  {
   "cell_type": "code",
   "execution_count": 82,
   "outputs": [
    {
     "name": "stdout",
     "output_type": "stream",
     "text": [
      "Accuracy: 0.9893604718399445\n",
      "F1 score: 0.9542743538767395\n",
      "Recall: 0.9248554913294798\n",
      "Precision: 0.9856262833675564\n",
      "\n",
      " clasification report:\n",
      "               precision    recall  f1-score   support\n",
      "\n",
      "           0       0.99      1.00      0.99      7609\n",
      "           1       0.99      0.92      0.95      1038\n",
      "\n",
      "    accuracy                           0.99      8647\n",
      "   macro avg       0.99      0.96      0.97      8647\n",
      "weighted avg       0.99      0.99      0.99      8647\n",
      "\n",
      "\n",
      " confussion matrix:\n",
      " [[7595   14]\n",
      " [  78  960]]\n"
     ]
    }
   ],
   "source": [
    "# Use the best parameters to build the random forest model\n",
    "from sklearn.ensemble import RandomForestClassifier\n",
    "from sklearn.metrics import precision_score, recall_score, confusion_matrix, \\\n",
    "    classification_report, accuracy_score, f1_score\n",
    "rf = RandomForestClassifier(random_state=9821)\n",
    "rf.fit(X_train, y_train)\n",
    "y_pred = rf.predict(X_test)\n",
    "\n",
    "print('Accuracy:', accuracy_score(y_test, y_pred))\n",
    "print('F1 score:', f1_score(y_test, y_pred))\n",
    "print('Recall:', recall_score(y_test, y_pred))\n",
    "print('Precision:', precision_score(y_test, y_pred))\n",
    "print('\\n clasification report:\\n', classification_report(y_test, y_pred))\n",
    "print('\\n confussion matrix:\\n',confusion_matrix(y_test, y_pred))"
   ],
   "metadata": {
    "collapsed": false,
    "pycharm": {
     "name": "#%%\n"
    }
   }
  },
  {
   "cell_type": "markdown",
   "source": [
    "#### Neural Networks"
   ],
   "metadata": {
    "collapsed": false
   }
  },
  {
   "cell_type": "code",
   "execution_count": 29,
   "outputs": [
    {
     "name": "stdout",
     "output_type": "stream",
     "text": [
      "Model: \"sequential_8\"\n",
      "_________________________________________________________________\n",
      "Layer (type)                 Output Shape              Param #   \n",
      "=================================================================\n",
      "dense_32 (Dense)             (None, 32)                672       \n",
      "_________________________________________________________________\n",
      "dense_33 (Dense)             (None, 64)                2112      \n",
      "_________________________________________________________________\n",
      "dropout_16 (Dropout)         (None, 64)                0         \n",
      "_________________________________________________________________\n",
      "dense_34 (Dense)             (None, 128)               8320      \n",
      "_________________________________________________________________\n",
      "batch_normalization_9 (Batch (None, 128)               512       \n",
      "_________________________________________________________________\n",
      "dropout_17 (Dropout)         (None, 128)               0         \n",
      "_________________________________________________________________\n",
      "dense_35 (Dense)             (None, 1)                 129       \n",
      "=================================================================\n",
      "Total params: 11,745\n",
      "Trainable params: 11,489\n",
      "Non-trainable params: 256\n",
      "_________________________________________________________________\n"
     ]
    }
   ],
   "source": [
    "from tensorflow import keras\n",
    "model = keras.Sequential(\n",
    " [\n",
    " keras.layers.Dense(32, activation=\"relu\", input_shape=(X_train.shape[-1],)),\n",
    " #keras.layers.BatchNormalization(),\n",
    " keras.layers.Dense(64, activation=\"relu\"),\n",
    " keras.layers.Dropout(0.2),\n",
    " keras.layers.Dense(128, activation=\"relu\"),\n",
    " keras.layers.BatchNormalization(),\n",
    " keras.layers.Dropout(0.2),\n",
    " keras.layers.Dense(1, activation=\"sigmoid\"),\n",
    " ]\n",
    ")\n",
    "model.summary()"
   ],
   "metadata": {
    "collapsed": false,
    "pycharm": {
     "name": "#%%\n"
    }
   }
  },
  {
   "cell_type": "code",
   "execution_count": 54,
   "outputs": [
    {
     "name": "stdout",
     "output_type": "stream",
     "text": [
      "Epoch 1/10\n",
      "217/217 - 1s - loss: 0.0411 - accuracy: 0.9864 - val_loss: 0.0542 - val_accuracy: 0.9809\n",
      "Epoch 2/10\n",
      "217/217 - 0s - loss: 0.0424 - accuracy: 0.9860 - val_loss: 0.0535 - val_accuracy: 0.9812\n",
      "Epoch 3/10\n",
      "217/217 - 0s - loss: 0.0413 - accuracy: 0.9851 - val_loss: 0.0534 - val_accuracy: 0.9816\n",
      "Epoch 4/10\n",
      "217/217 - 0s - loss: 0.0416 - accuracy: 0.9863 - val_loss: 0.0529 - val_accuracy: 0.9816\n",
      "Epoch 5/10\n",
      "217/217 - 0s - loss: 0.0416 - accuracy: 0.9860 - val_loss: 0.0531 - val_accuracy: 0.9812\n",
      "Epoch 6/10\n",
      "217/217 - 0s - loss: 0.0424 - accuracy: 0.9853 - val_loss: 0.0532 - val_accuracy: 0.9811\n",
      "Epoch 7/10\n",
      "217/217 - 0s - loss: 0.0397 - accuracy: 0.9863 - val_loss: 0.0525 - val_accuracy: 0.9815\n",
      "Epoch 8/10\n",
      "217/217 - 0s - loss: 0.0409 - accuracy: 0.9865 - val_loss: 0.0532 - val_accuracy: 0.9808\n",
      "Epoch 9/10\n",
      "217/217 - 0s - loss: 0.0399 - accuracy: 0.9868 - val_loss: 0.0527 - val_accuracy: 0.9811\n",
      "Epoch 10/10\n",
      "217/217 - 0s - loss: 0.0406 - accuracy: 0.9857 - val_loss: 0.0531 - val_accuracy: 0.9806\n"
     ]
    }
   ],
   "source": [
    "import tensorflow.keras.backend as K\n",
    "def recall_m(y_true, y_pred):\n",
    "    true_positives = K.sum(K.round(K.clip(y_true * y_pred, 0, 1)))\n",
    "    possible_positives = K.sum(K.round(K.clip(y_true, 0, 1)))\n",
    "    recall = true_positives / (possible_positives + K.epsilon())\n",
    "    return recall\n",
    "\n",
    "def precision_m(y_true, y_pred):\n",
    "    true_positives = K.sum(K.round(K.clip(y_true * y_pred, 0, 1)))\n",
    "    predicted_positives = K.sum(K.round(K.clip(y_pred, 0, 1)))\n",
    "    precision = true_positives / (predicted_positives + K.epsilon())\n",
    "    return precision\n",
    "\n",
    "def f1_m(y_true, y_pred):\n",
    "    precision = precision_m(y_true, y_pred)\n",
    "    recall = recall_m(y_true, y_pred)\n",
    "    return 2*((precision*recall)/(precision+recall+K.epsilon()))\n",
    "\n",
    "model.compile(\n",
    " optimizer=keras.optimizers.Adam(1e-5),\n",
    " loss=\"binary_crossentropy\",\n",
    " metrics=['accuracy']\n",
    ")\n",
    "\n",
    "history = model.fit(\n",
    " X_train,\n",
    " y_train,\n",
    " batch_size=128,\n",
    " epochs=10,\n",
    " verbose=2,\n",
    " validation_split = 0.2)"
   ],
   "metadata": {
    "collapsed": false,
    "pycharm": {
     "name": "#%%\n"
    }
   }
  },
  {
   "cell_type": "code",
   "execution_count": 55,
   "outputs": [
    {
     "name": "stdout",
     "output_type": "stream",
     "text": [
      "Accuracy: 0.9850815311668787\n",
      "F1 score: 0.939521800281294\n",
      "Recall: 0.9653179190751445\n",
      "Precision: 0.915068493150685\n",
      "\n",
      " clasification report:\n",
      "               precision    recall  f1-score   support\n",
      "\n",
      "           0       1.00      0.99      0.99      7609\n",
      "           1       0.92      0.97      0.94      1038\n",
      "\n",
      "    accuracy                           0.99      8647\n",
      "   macro avg       0.96      0.98      0.97      8647\n",
      "weighted avg       0.99      0.99      0.99      8647\n",
      "\n",
      "\n",
      " confussion matrix:\n",
      " [[7516   93]\n",
      " [  36 1002]]\n"
     ]
    }
   ],
   "source": [
    "from sklearn.metrics import precision_score, recall_score, confusion_matrix, \\\n",
    "    classification_report, accuracy_score, f1_score\n",
    "\n",
    "y_pred = (model.predict(X_test)>0.5).astype('uint8')\n",
    "print('Accuracy:', accuracy_score(y_test, y_pred))\n",
    "print('F1 score:', f1_score(y_test, y_pred))\n",
    "print('Recall:', recall_score(y_test, y_pred))\n",
    "print('Precision:', precision_score(y_test, y_pred))\n",
    "print('\\n clasification report:\\n', classification_report(y_test, y_pred))\n",
    "print('\\n confussion matrix:\\n',confusion_matrix(y_test, y_pred))"
   ],
   "metadata": {
    "collapsed": false,
    "pycharm": {
     "name": "#%%\n"
    }
   }
  }
 ],
 "metadata": {
  "kernelspec": {
   "display_name": "Python 3",
   "language": "python",
   "name": "python3"
  },
  "language_info": {
   "codemirror_mode": {
    "name": "ipython",
    "version": 2
   },
   "file_extension": ".py",
   "mimetype": "text/x-python",
   "name": "python",
   "nbconvert_exporter": "python",
   "pygments_lexer": "ipython2",
   "version": "2.7.6"
  }
 },
 "nbformat": 4,
 "nbformat_minor": 0
}